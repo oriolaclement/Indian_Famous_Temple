{
 "cells": [
  {
   "cell_type": "code",
   "execution_count": 1,
   "id": "9e3d33f7",
   "metadata": {},
   "outputs": [],
   "source": [
    "import pandas as pd \n",
    "import numpy as np\n",
    "import matplotlib.pyplot as plt \n",
    "%matplotlib inline\n",
    "import seaborn as sns \n",
    "import warnings\n",
    "warnings.simplefilter(action=\"ignore\", category=FutureWarning)"
   ]
  },
  {
   "cell_type": "code",
   "execution_count": 2,
   "id": "3c5806d5",
   "metadata": {},
   "outputs": [],
   "source": [
    "df_t = pd.read_csv('temples.csv')"
   ]
  },
  {
   "cell_type": "code",
   "execution_count": 3,
   "id": "dd563ff0",
   "metadata": {},
   "outputs": [
    {
     "data": {
      "text/html": [
       "<div>\n",
       "<style scoped>\n",
       "    .dataframe tbody tr th:only-of-type {\n",
       "        vertical-align: middle;\n",
       "    }\n",
       "\n",
       "    .dataframe tbody tr th {\n",
       "        vertical-align: top;\n",
       "    }\n",
       "\n",
       "    .dataframe thead th {\n",
       "        text-align: right;\n",
       "    }\n",
       "</style>\n",
       "<table border=\"1\" class=\"dataframe\">\n",
       "  <thead>\n",
       "    <tr style=\"text-align: right;\">\n",
       "      <th></th>\n",
       "      <th>templeName</th>\n",
       "      <th>Description</th>\n",
       "      <th>Location</th>\n",
       "      <th>Coordinates</th>\n",
       "      <th>DistanceFromMumbai(Km)</th>\n",
       "      <th>DistanceFromNewDelhi(Km)</th>\n",
       "      <th>DistanceFromChennai(Km)</th>\n",
       "      <th>DistanceFromKolkata(Km)</th>\n",
       "    </tr>\n",
       "  </thead>\n",
       "  <tbody>\n",
       "    <tr>\n",
       "      <th>0</th>\n",
       "      <td>Badrinath Temple | Badrinath, Uttarakhand</td>\n",
       "      <td>The Badrinath temple also known as Badrinaraya...</td>\n",
       "      <td>Badrinath</td>\n",
       "      <td>(30.7423302, 79.4930256)</td>\n",
       "      <td>1454.013555</td>\n",
       "      <td>323.309362</td>\n",
       "      <td>1957.065909</td>\n",
       "      <td>1265.717344</td>\n",
       "    </tr>\n",
       "    <tr>\n",
       "      <th>1</th>\n",
       "      <td>Kedarnath Temple | Kedarnath, Uttarakhand</td>\n",
       "      <td>Located at the highest altitude among the Char...</td>\n",
       "      <td>Kedarnath</td>\n",
       "      <td>(30.7345609, 79.0673204)</td>\n",
       "      <td>1434.105557</td>\n",
       "      <td>295.986734</td>\n",
       "      <td>1958.477211</td>\n",
       "      <td>1294.937834</td>\n",
       "    </tr>\n",
       "    <tr>\n",
       "      <th>2</th>\n",
       "      <td>Gangotri Temple | Gangotri, Uttarakhand</td>\n",
       "      <td>The birthplace of the holy River Ganges is in ...</td>\n",
       "      <td>Gangotri</td>\n",
       "      <td>(30.9943684, 78.9398699)</td>\n",
       "      <td>1454.357504</td>\n",
       "      <td>312.443007</td>\n",
       "      <td>1988.071223</td>\n",
       "      <td>1323.391443</td>\n",
       "    </tr>\n",
       "    <tr>\n",
       "      <th>3</th>\n",
       "      <td>Yamunotri Temple | Yamunotri, Uttarakhand</td>\n",
       "      <td>Located opposite to Gangotri is the sacred shr...</td>\n",
       "      <td>Yamunotri</td>\n",
       "      <td>(30.999214, 78.4626951)</td>\n",
       "      <td>1435.376936</td>\n",
       "      <td>290.856707</td>\n",
       "      <td>1992.566060</td>\n",
       "      <td>1357.610477</td>\n",
       "    </tr>\n",
       "    <tr>\n",
       "      <th>4</th>\n",
       "      <td>Har Ki Pauri | Haridwar, Uttarakhand</td>\n",
       "      <td>As one of the oldest living cities of India, H...</td>\n",
       "      <td>Haridwar</td>\n",
       "      <td>(29.9384473, 78.1452985)</td>\n",
       "      <td>1315.804055</td>\n",
       "      <td>172.720329</td>\n",
       "      <td>1879.124748</td>\n",
       "      <td>1307.563971</td>\n",
       "    </tr>\n",
       "  </tbody>\n",
       "</table>\n",
       "</div>"
      ],
      "text/plain": [
       "                                  templeName  \\\n",
       "0  Badrinath Temple | Badrinath, Uttarakhand   \n",
       "1  Kedarnath Temple | Kedarnath, Uttarakhand   \n",
       "2    Gangotri Temple | Gangotri, Uttarakhand   \n",
       "3  Yamunotri Temple | Yamunotri, Uttarakhand   \n",
       "4       Har Ki Pauri | Haridwar, Uttarakhand   \n",
       "\n",
       "                                         Description    Location  \\\n",
       "0  The Badrinath temple also known as Badrinaraya...   Badrinath   \n",
       "1  Located at the highest altitude among the Char...   Kedarnath   \n",
       "2  The birthplace of the holy River Ganges is in ...    Gangotri   \n",
       "3  Located opposite to Gangotri is the sacred shr...   Yamunotri   \n",
       "4  As one of the oldest living cities of India, H...    Haridwar   \n",
       "\n",
       "                Coordinates  DistanceFromMumbai(Km)  DistanceFromNewDelhi(Km)  \\\n",
       "0  (30.7423302, 79.4930256)             1454.013555                323.309362   \n",
       "1  (30.7345609, 79.0673204)             1434.105557                295.986734   \n",
       "2  (30.9943684, 78.9398699)             1454.357504                312.443007   \n",
       "3   (30.999214, 78.4626951)             1435.376936                290.856707   \n",
       "4  (29.9384473, 78.1452985)             1315.804055                172.720329   \n",
       "\n",
       "   DistanceFromChennai(Km)  DistanceFromKolkata(Km)  \n",
       "0              1957.065909              1265.717344  \n",
       "1              1958.477211              1294.937834  \n",
       "2              1988.071223              1323.391443  \n",
       "3              1992.566060              1357.610477  \n",
       "4              1879.124748              1307.563971  "
      ]
     },
     "execution_count": 3,
     "metadata": {},
     "output_type": "execute_result"
    }
   ],
   "source": [
    "#lets checkout how our dataset looks like\n",
    "df_t.head()"
   ]
  },
  {
   "cell_type": "code",
   "execution_count": 4,
   "id": "43f39656",
   "metadata": {},
   "outputs": [
    {
     "data": {
      "text/html": [
       "<div>\n",
       "<style scoped>\n",
       "    .dataframe tbody tr th:only-of-type {\n",
       "        vertical-align: middle;\n",
       "    }\n",
       "\n",
       "    .dataframe tbody tr th {\n",
       "        vertical-align: top;\n",
       "    }\n",
       "\n",
       "    .dataframe thead th {\n",
       "        text-align: right;\n",
       "    }\n",
       "</style>\n",
       "<table border=\"1\" class=\"dataframe\">\n",
       "  <thead>\n",
       "    <tr style=\"text-align: right;\">\n",
       "      <th></th>\n",
       "      <th>templeName</th>\n",
       "      <th>Description</th>\n",
       "      <th>Location</th>\n",
       "      <th>Coordinates</th>\n",
       "      <th>DistanceFromMumbai(Km)</th>\n",
       "      <th>DistanceFromNewDelhi(Km)</th>\n",
       "      <th>DistanceFromChennai(Km)</th>\n",
       "      <th>DistanceFromKolkata(Km)</th>\n",
       "    </tr>\n",
       "  </thead>\n",
       "  <tbody>\n",
       "    <tr>\n",
       "      <th>48</th>\n",
       "      <td>Brihadeshwara Temple | Thanjavur, Tamil Nadu</td>\n",
       "      <td>The Brihadeshwara Temple is a masterpiece and ...</td>\n",
       "      <td>Thanjavur</td>\n",
       "      <td>(10.7860267, 79.1381497)</td>\n",
       "      <td>1137.587824</td>\n",
       "      <td>1983.899883</td>\n",
       "      <td>282.501204</td>\n",
       "      <td>1629.496644</td>\n",
       "    </tr>\n",
       "    <tr>\n",
       "      <th>49</th>\n",
       "      <td>Chennakesava Temple | Belur, Karnataka</td>\n",
       "      <td>A stunner from the Hoysala period, the Chennak...</td>\n",
       "      <td>Belur</td>\n",
       "      <td>(22.6357323, 88.3398223)</td>\n",
       "      <td>1655.768411</td>\n",
       "      <td>1298.336126</td>\n",
       "      <td>1359.013182</td>\n",
       "      <td>10.604555</td>\n",
       "    </tr>\n",
       "    <tr>\n",
       "      <th>50</th>\n",
       "      <td>Thillai Nataraja Temple | Chidambaram, Tamil Nadu</td>\n",
       "      <td>The Chidambaram Temple is dedicated to Lord Sh...</td>\n",
       "      <td>Chidambaram</td>\n",
       "      <td>(11.41018075, 79.67222017841891)</td>\n",
       "      <td>1118.630771</td>\n",
       "      <td>1921.816741</td>\n",
       "      <td>196.229639</td>\n",
       "      <td>1539.369798</td>\n",
       "    </tr>\n",
       "    <tr>\n",
       "      <th>51</th>\n",
       "      <td>Annamalaiyer Temple | Thiruvannamalai, Tamil Nadu</td>\n",
       "      <td>Located at the base of Annamalai Hills in Thir...</td>\n",
       "      <td>Thiruvannamalai</td>\n",
       "      <td>(9.539867, 77.6197904)</td>\n",
       "      <td>1172.319138</td>\n",
       "      <td>2111.952088</td>\n",
       "      <td>487.198055</td>\n",
       "      <td>1839.342146</td>\n",
       "    </tr>\n",
       "    <tr>\n",
       "      <th>52</th>\n",
       "      <td>Kailashanatha Temple | Kanchipuram, Tamil Nadu</td>\n",
       "      <td>Built under the patronage of the Pallava ruler...</td>\n",
       "      <td>Kanchipuram</td>\n",
       "      <td>(12.836393, 79.7053304)</td>\n",
       "      <td>1005.176537</td>\n",
       "      <td>1765.937298</td>\n",
       "      <td>67.117235</td>\n",
       "      <td>1411.945496</td>\n",
       "    </tr>\n",
       "  </tbody>\n",
       "</table>\n",
       "</div>"
      ],
      "text/plain": [
       "                                           templeName  \\\n",
       "48       Brihadeshwara Temple | Thanjavur, Tamil Nadu   \n",
       "49             Chennakesava Temple | Belur, Karnataka   \n",
       "50  Thillai Nataraja Temple | Chidambaram, Tamil Nadu   \n",
       "51  Annamalaiyer Temple | Thiruvannamalai, Tamil Nadu   \n",
       "52     Kailashanatha Temple | Kanchipuram, Tamil Nadu   \n",
       "\n",
       "                                          Description          Location  \\\n",
       "48  The Brihadeshwara Temple is a masterpiece and ...         Thanjavur   \n",
       "49  A stunner from the Hoysala period, the Chennak...             Belur   \n",
       "50  The Chidambaram Temple is dedicated to Lord Sh...       Chidambaram   \n",
       "51  Located at the base of Annamalai Hills in Thir...   Thiruvannamalai   \n",
       "52  Built under the patronage of the Pallava ruler...       Kanchipuram   \n",
       "\n",
       "                         Coordinates  DistanceFromMumbai(Km)  \\\n",
       "48          (10.7860267, 79.1381497)             1137.587824   \n",
       "49          (22.6357323, 88.3398223)             1655.768411   \n",
       "50  (11.41018075, 79.67222017841891)             1118.630771   \n",
       "51            (9.539867, 77.6197904)             1172.319138   \n",
       "52           (12.836393, 79.7053304)             1005.176537   \n",
       "\n",
       "    DistanceFromNewDelhi(Km)  DistanceFromChennai(Km)  DistanceFromKolkata(Km)  \n",
       "48               1983.899883               282.501204              1629.496644  \n",
       "49               1298.336126              1359.013182                10.604555  \n",
       "50               1921.816741               196.229639              1539.369798  \n",
       "51               2111.952088               487.198055              1839.342146  \n",
       "52               1765.937298                67.117235              1411.945496  "
      ]
     },
     "execution_count": 4,
     "metadata": {},
     "output_type": "execute_result"
    }
   ],
   "source": [
    "df_t.tail()"
   ]
  },
  {
   "cell_type": "code",
   "execution_count": 5,
   "id": "91d71fcd",
   "metadata": {},
   "outputs": [
    {
     "data": {
      "text/plain": [
       "(53, 8)"
      ]
     },
     "execution_count": 5,
     "metadata": {},
     "output_type": "execute_result"
    }
   ],
   "source": [
    "df_t.shape"
   ]
  },
  {
   "cell_type": "code",
   "execution_count": 6,
   "id": "a260aa3e",
   "metadata": {},
   "outputs": [
    {
     "data": {
      "text/plain": [
       "Index(['templeName', 'Description', 'Location', 'Coordinates',\n",
       "       'DistanceFromMumbai(Km)', 'DistanceFromNewDelhi(Km)',\n",
       "       'DistanceFromChennai(Km)', 'DistanceFromKolkata(Km)'],\n",
       "      dtype='object')"
      ]
     },
     "execution_count": 6,
     "metadata": {},
     "output_type": "execute_result"
    }
   ],
   "source": [
    "df_t.columns"
   ]
  },
  {
   "cell_type": "code",
   "execution_count": 7,
   "id": "273cda88",
   "metadata": {},
   "outputs": [
    {
     "name": "stdout",
     "output_type": "stream",
     "text": [
      "<class 'pandas.core.frame.DataFrame'>\n",
      "RangeIndex: 53 entries, 0 to 52\n",
      "Data columns (total 8 columns):\n",
      " #   Column                    Non-Null Count  Dtype  \n",
      "---  ------                    --------------  -----  \n",
      " 0   templeName                53 non-null     object \n",
      " 1   Description               53 non-null     object \n",
      " 2   Location                  52 non-null     object \n",
      " 3   Coordinates               53 non-null     object \n",
      " 4   DistanceFromMumbai(Km)    53 non-null     float64\n",
      " 5   DistanceFromNewDelhi(Km)  53 non-null     float64\n",
      " 6   DistanceFromChennai(Km)   53 non-null     float64\n",
      " 7   DistanceFromKolkata(Km)   53 non-null     float64\n",
      "dtypes: float64(4), object(4)\n",
      "memory usage: 3.4+ KB\n"
     ]
    }
   ],
   "source": [
    "df_t.info()"
   ]
  },
  {
   "cell_type": "code",
   "execution_count": 8,
   "id": "5e6e090e",
   "metadata": {},
   "outputs": [
    {
     "data": {
      "text/html": [
       "<div>\n",
       "<style scoped>\n",
       "    .dataframe tbody tr th:only-of-type {\n",
       "        vertical-align: middle;\n",
       "    }\n",
       "\n",
       "    .dataframe tbody tr th {\n",
       "        vertical-align: top;\n",
       "    }\n",
       "\n",
       "    .dataframe thead th {\n",
       "        text-align: right;\n",
       "    }\n",
       "</style>\n",
       "<table border=\"1\" class=\"dataframe\">\n",
       "  <thead>\n",
       "    <tr style=\"text-align: right;\">\n",
       "      <th></th>\n",
       "      <th>DistanceFromMumbai(Km)</th>\n",
       "      <th>DistanceFromNewDelhi(Km)</th>\n",
       "      <th>DistanceFromChennai(Km)</th>\n",
       "      <th>DistanceFromKolkata(Km)</th>\n",
       "    </tr>\n",
       "  </thead>\n",
       "  <tbody>\n",
       "    <tr>\n",
       "      <th>count</th>\n",
       "      <td>53.000000</td>\n",
       "      <td>53.000000</td>\n",
       "      <td>53.000000</td>\n",
       "      <td>53.000000</td>\n",
       "    </tr>\n",
       "    <tr>\n",
       "      <th>mean</th>\n",
       "      <td>1195.137153</td>\n",
       "      <td>1141.181755</td>\n",
       "      <td>1323.089894</td>\n",
       "      <td>1425.414973</td>\n",
       "    </tr>\n",
       "    <tr>\n",
       "      <th>std</th>\n",
       "      <td>844.276632</td>\n",
       "      <td>956.735097</td>\n",
       "      <td>1087.565648</td>\n",
       "      <td>971.889052</td>\n",
       "    </tr>\n",
       "    <tr>\n",
       "      <th>min</th>\n",
       "      <td>0.000000</td>\n",
       "      <td>0.000000</td>\n",
       "      <td>52.010385</td>\n",
       "      <td>0.000000</td>\n",
       "    </tr>\n",
       "    <tr>\n",
       "      <th>25%</th>\n",
       "      <td>851.545156</td>\n",
       "      <td>496.787727</td>\n",
       "      <td>487.198055</td>\n",
       "      <td>1294.937834</td>\n",
       "    </tr>\n",
       "    <tr>\n",
       "      <th>50%</th>\n",
       "      <td>1158.782925</td>\n",
       "      <td>1087.326052</td>\n",
       "      <td>1352.260203</td>\n",
       "      <td>1464.934193</td>\n",
       "    </tr>\n",
       "    <tr>\n",
       "      <th>75%</th>\n",
       "      <td>1405.563660</td>\n",
       "      <td>1668.348726</td>\n",
       "      <td>1797.144168</td>\n",
       "      <td>1671.864818</td>\n",
       "    </tr>\n",
       "    <tr>\n",
       "      <th>max</th>\n",
       "      <td>6345.522996</td>\n",
       "      <td>5987.434545</td>\n",
       "      <td>7374.452960</td>\n",
       "      <td>7275.959203</td>\n",
       "    </tr>\n",
       "  </tbody>\n",
       "</table>\n",
       "</div>"
      ],
      "text/plain": [
       "       DistanceFromMumbai(Km)  DistanceFromNewDelhi(Km)  \\\n",
       "count               53.000000                 53.000000   \n",
       "mean              1195.137153               1141.181755   \n",
       "std                844.276632                956.735097   \n",
       "min                  0.000000                  0.000000   \n",
       "25%                851.545156                496.787727   \n",
       "50%               1158.782925               1087.326052   \n",
       "75%               1405.563660               1668.348726   \n",
       "max               6345.522996               5987.434545   \n",
       "\n",
       "       DistanceFromChennai(Km)  DistanceFromKolkata(Km)  \n",
       "count                53.000000                53.000000  \n",
       "mean               1323.089894              1425.414973  \n",
       "std                1087.565648               971.889052  \n",
       "min                  52.010385                 0.000000  \n",
       "25%                 487.198055              1294.937834  \n",
       "50%                1352.260203              1464.934193  \n",
       "75%                1797.144168              1671.864818  \n",
       "max                7374.452960              7275.959203  "
      ]
     },
     "execution_count": 8,
     "metadata": {},
     "output_type": "execute_result"
    }
   ],
   "source": [
    "df_t.describe()"
   ]
  },
  {
   "cell_type": "code",
   "execution_count": 9,
   "id": "92017fcc",
   "metadata": {},
   "outputs": [
    {
     "data": {
      "text/plain": [
       "0"
      ]
     },
     "execution_count": 9,
     "metadata": {},
     "output_type": "execute_result"
    }
   ],
   "source": [
    "#checking for duplicates and null values \n",
    "df_t.duplicated().sum()"
   ]
  },
  {
   "cell_type": "code",
   "execution_count": 10,
   "id": "eada4fff",
   "metadata": {},
   "outputs": [
    {
     "data": {
      "text/plain": [
       "templeName                  0\n",
       "Description                 0\n",
       "Location                    1\n",
       "Coordinates                 0\n",
       "DistanceFromMumbai(Km)      0\n",
       "DistanceFromNewDelhi(Km)    0\n",
       "DistanceFromChennai(Km)     0\n",
       "DistanceFromKolkata(Km)     0\n",
       "dtype: int64"
      ]
     },
     "execution_count": 10,
     "metadata": {},
     "output_type": "execute_result"
    }
   ],
   "source": [
    "df_t.isnull().sum()"
   ]
  },
  {
   "cell_type": "code",
   "execution_count": 12,
   "id": "c1cac434",
   "metadata": {},
   "outputs": [],
   "source": [
    "#dropping the null values\n",
    "df_t = df_t.dropna()"
   ]
  },
  {
   "cell_type": "code",
   "execution_count": 13,
   "id": "1f30ec05",
   "metadata": {},
   "outputs": [
    {
     "data": {
      "text/plain": [
       "templeName                  0\n",
       "Description                 0\n",
       "Location                    0\n",
       "Coordinates                 0\n",
       "DistanceFromMumbai(Km)      0\n",
       "DistanceFromNewDelhi(Km)    0\n",
       "DistanceFromChennai(Km)     0\n",
       "DistanceFromKolkata(Km)     0\n",
       "dtype: int64"
      ]
     },
     "execution_count": 13,
     "metadata": {},
     "output_type": "execute_result"
    }
   ],
   "source": [
    "df_t.isnull().sum()"
   ]
  },
  {
   "cell_type": "code",
   "execution_count": 14,
   "id": "31230252",
   "metadata": {},
   "outputs": [],
   "source": [
    "# looking at our dataset we can see the templename column consists of the temple name and state, so we would use the str.split function\n",
    "df_t['State'] = df_t['templeName'].str.split(',', expand = True)[1]"
   ]
  },
  {
   "cell_type": "code",
   "execution_count": 15,
   "id": "6eab0186",
   "metadata": {},
   "outputs": [
    {
     "data": {
      "text/html": [
       "<div>\n",
       "<style scoped>\n",
       "    .dataframe tbody tr th:only-of-type {\n",
       "        vertical-align: middle;\n",
       "    }\n",
       "\n",
       "    .dataframe tbody tr th {\n",
       "        vertical-align: top;\n",
       "    }\n",
       "\n",
       "    .dataframe thead th {\n",
       "        text-align: right;\n",
       "    }\n",
       "</style>\n",
       "<table border=\"1\" class=\"dataframe\">\n",
       "  <thead>\n",
       "    <tr style=\"text-align: right;\">\n",
       "      <th></th>\n",
       "      <th>templeName</th>\n",
       "      <th>Description</th>\n",
       "      <th>Location</th>\n",
       "      <th>Coordinates</th>\n",
       "      <th>DistanceFromMumbai(Km)</th>\n",
       "      <th>DistanceFromNewDelhi(Km)</th>\n",
       "      <th>DistanceFromChennai(Km)</th>\n",
       "      <th>DistanceFromKolkata(Km)</th>\n",
       "      <th>State</th>\n",
       "    </tr>\n",
       "  </thead>\n",
       "  <tbody>\n",
       "    <tr>\n",
       "      <th>0</th>\n",
       "      <td>Badrinath Temple | Badrinath, Uttarakhand</td>\n",
       "      <td>The Badrinath temple also known as Badrinaraya...</td>\n",
       "      <td>Badrinath</td>\n",
       "      <td>(30.7423302, 79.4930256)</td>\n",
       "      <td>1454.013555</td>\n",
       "      <td>323.309362</td>\n",
       "      <td>1957.065909</td>\n",
       "      <td>1265.717344</td>\n",
       "      <td>Uttarakhand</td>\n",
       "    </tr>\n",
       "    <tr>\n",
       "      <th>1</th>\n",
       "      <td>Kedarnath Temple | Kedarnath, Uttarakhand</td>\n",
       "      <td>Located at the highest altitude among the Char...</td>\n",
       "      <td>Kedarnath</td>\n",
       "      <td>(30.7345609, 79.0673204)</td>\n",
       "      <td>1434.105557</td>\n",
       "      <td>295.986734</td>\n",
       "      <td>1958.477211</td>\n",
       "      <td>1294.937834</td>\n",
       "      <td>Uttarakhand</td>\n",
       "    </tr>\n",
       "    <tr>\n",
       "      <th>2</th>\n",
       "      <td>Gangotri Temple | Gangotri, Uttarakhand</td>\n",
       "      <td>The birthplace of the holy River Ganges is in ...</td>\n",
       "      <td>Gangotri</td>\n",
       "      <td>(30.9943684, 78.9398699)</td>\n",
       "      <td>1454.357504</td>\n",
       "      <td>312.443007</td>\n",
       "      <td>1988.071223</td>\n",
       "      <td>1323.391443</td>\n",
       "      <td>Uttarakhand</td>\n",
       "    </tr>\n",
       "    <tr>\n",
       "      <th>3</th>\n",
       "      <td>Yamunotri Temple | Yamunotri, Uttarakhand</td>\n",
       "      <td>Located opposite to Gangotri is the sacred shr...</td>\n",
       "      <td>Yamunotri</td>\n",
       "      <td>(30.999214, 78.4626951)</td>\n",
       "      <td>1435.376936</td>\n",
       "      <td>290.856707</td>\n",
       "      <td>1992.566060</td>\n",
       "      <td>1357.610477</td>\n",
       "      <td>Uttarakhand</td>\n",
       "    </tr>\n",
       "    <tr>\n",
       "      <th>4</th>\n",
       "      <td>Har Ki Pauri | Haridwar, Uttarakhand</td>\n",
       "      <td>As one of the oldest living cities of India, H...</td>\n",
       "      <td>Haridwar</td>\n",
       "      <td>(29.9384473, 78.1452985)</td>\n",
       "      <td>1315.804055</td>\n",
       "      <td>172.720329</td>\n",
       "      <td>1879.124748</td>\n",
       "      <td>1307.563971</td>\n",
       "      <td>Uttarakhand</td>\n",
       "    </tr>\n",
       "  </tbody>\n",
       "</table>\n",
       "</div>"
      ],
      "text/plain": [
       "                                  templeName  \\\n",
       "0  Badrinath Temple | Badrinath, Uttarakhand   \n",
       "1  Kedarnath Temple | Kedarnath, Uttarakhand   \n",
       "2    Gangotri Temple | Gangotri, Uttarakhand   \n",
       "3  Yamunotri Temple | Yamunotri, Uttarakhand   \n",
       "4       Har Ki Pauri | Haridwar, Uttarakhand   \n",
       "\n",
       "                                         Description    Location  \\\n",
       "0  The Badrinath temple also known as Badrinaraya...   Badrinath   \n",
       "1  Located at the highest altitude among the Char...   Kedarnath   \n",
       "2  The birthplace of the holy River Ganges is in ...    Gangotri   \n",
       "3  Located opposite to Gangotri is the sacred shr...   Yamunotri   \n",
       "4  As one of the oldest living cities of India, H...    Haridwar   \n",
       "\n",
       "                Coordinates  DistanceFromMumbai(Km)  DistanceFromNewDelhi(Km)  \\\n",
       "0  (30.7423302, 79.4930256)             1454.013555                323.309362   \n",
       "1  (30.7345609, 79.0673204)             1434.105557                295.986734   \n",
       "2  (30.9943684, 78.9398699)             1454.357504                312.443007   \n",
       "3   (30.999214, 78.4626951)             1435.376936                290.856707   \n",
       "4  (29.9384473, 78.1452985)             1315.804055                172.720329   \n",
       "\n",
       "   DistanceFromChennai(Km)  DistanceFromKolkata(Km)         State  \n",
       "0              1957.065909              1265.717344   Uttarakhand  \n",
       "1              1958.477211              1294.937834   Uttarakhand  \n",
       "2              1988.071223              1323.391443   Uttarakhand  \n",
       "3              1992.566060              1357.610477   Uttarakhand  \n",
       "4              1879.124748              1307.563971   Uttarakhand  "
      ]
     },
     "execution_count": 15,
     "metadata": {},
     "output_type": "execute_result"
    }
   ],
   "source": [
    "#now lets check if it was successful\n",
    "df_t.head()"
   ]
  },
  {
   "cell_type": "code",
   "execution_count": 16,
   "id": "bafd7b6e",
   "metadata": {},
   "outputs": [
    {
     "data": {
      "text/plain": [
       " New Delhi             4\n",
       " Hampi                 3\n",
       " Bhubaneshwar          3\n",
       " Kolkata               2\n",
       " Badrinath             1\n",
       " Ranakpur              1\n",
       " Sanchi                1\n",
       " Khajuraho             1\n",
       " Tirumala              1\n",
       " Mysore                1\n",
       " Thiruvananthapuram    1\n",
       " Pathanamthitta        1\n",
       " Nathdwara             1\n",
       " Srirangam             1\n",
       " Madurai               1\n",
       " Rameshwaram           1\n",
       " Mahabalipuram         1\n",
       " Vellore               1\n",
       " Thanjavur             1\n",
       " Belur                 1\n",
       " Chidambaram           1\n",
       " Thiruvannamalai       1\n",
       " Mount Abu             1\n",
       " Mumbai                1\n",
       " Shirdi                1\n",
       " Kedarnath             1\n",
       " Gangotri              1\n",
       " Yamunotri             1\n",
       " Haridwar              1\n",
       " Rishikesh             1\n",
       " Nainital              1\n",
       " Varanasi              1\n",
       " Amritsar              1\n",
       " Pahalgam              1\n",
       " Vaishno Devi          1\n",
       " Srinagar              1\n",
       " Kangra                1\n",
       " Puri                  1\n",
       " Guwahati              1\n",
       " Dwarka                1\n",
       " Gandhinagar           1\n",
       " Junagadh              1\n",
       " Ahmednagar            1\n",
       " Kanchipuram           1\n",
       "Name: Location, dtype: int64"
      ]
     },
     "execution_count": 16,
     "metadata": {},
     "output_type": "execute_result"
    }
   ],
   "source": [
    "#so lets check the location with the highest numbers of indian temple and show it through visualisation \n",
    "df_t.Location.value_counts()"
   ]
  },
  {
   "cell_type": "code",
   "execution_count": 17,
   "id": "2c116ee0",
   "metadata": {},
   "outputs": [
    {
     "data": {
      "image/png": "[encoded data removed]",
      "text/plain": [
       "<Figure size 1080x432 with 1 Axes>"
      ]
     },
     "metadata": {},
     "output_type": "display_data"
    }
   ],
   "source": [
    "sns.set_theme()\n",
    "plt.figure(figsize = (15,6))\n",
    "sns.countplot(df_t['Location'], data = df_t, palette = 'hls')\n",
    "plt.xticks(rotation = 90)\n",
    "plt.show()"
   ]
  },
  {
   "cell_type": "code",
   "execution_count": 18,
   "id": "f17d7fd7",
   "metadata": {},
   "outputs": [
    {
     "data": {
      "text/plain": [
       "array([' Uttarakhand', ' Uttar Pradesh', ' Punjab', ' Jammu & Kashmir',\n",
       "       ' Delhi', ' Himachal Pradesh', ' Orissa', ' West Bengal', ' Assam',\n",
       "       ' Gujarat', ' Maharashtra', ' Rajasthan', ' Madhya Pradesh',\n",
       "       ' Andhra Pradesh', ' Karnataka', ' Kerala', ' Tamil Nadu'],\n",
       "      dtype=object)"
      ]
     },
     "execution_count": 18,
     "metadata": {},
     "output_type": "execute_result"
    }
   ],
   "source": [
    "# we checked with location earlier, now lets check based on state.\n",
    "df_t.State.unique()"
   ]
  },
  {
   "cell_type": "code",
   "execution_count": 19,
   "id": "9db65354",
   "metadata": {},
   "outputs": [
    {
     "data": {
      "text/plain": [
       " Tamil Nadu          9\n",
       " Uttarakhand         7\n",
       " Karnataka           5\n",
       " Delhi               4\n",
       " Orissa              4\n",
       " Jammu & Kashmir     3\n",
       " Gujarat             3\n",
       " Maharashtra         3\n",
       " Rajasthan           3\n",
       " West Bengal         2\n",
       " Madhya Pradesh      2\n",
       " Kerala              2\n",
       " Punjab              1\n",
       " Himachal Pradesh    1\n",
       " Uttar Pradesh       1\n",
       " Andhra Pradesh      1\n",
       " Assam               1\n",
       "Name: State, dtype: int64"
      ]
     },
     "execution_count": 19,
     "metadata": {},
     "output_type": "execute_result"
    }
   ],
   "source": [
    "df_t.State.value_counts()"
   ]
  },
  {
   "cell_type": "code",
   "execution_count": 20,
   "id": "2cf25a14",
   "metadata": {},
   "outputs": [
    {
     "data": {
      "image/png": "[encoded data removed]",
      "text/plain": [
       "<Figure size 1080x432 with 1 Axes>"
      ]
     },
     "metadata": {},
     "output_type": "display_data"
    }
   ],
   "source": [
    "sns.set_theme()\n",
    "plt.figure(figsize= (15, 6))\n",
    "sns.histplot(df_t.State, bins= 60)\n",
    "plt.xticks(rotation = 90)\n",
    "plt.show()"
   ]
  }
 ],
 "metadata": {
  "kernelspec": {
   "display_name": "Python 3 (ipykernel)",
   "language": "python",
   "name": "python3"
  },
  "language_info": {
   "codemirror_mode": {
    "name": "ipython",
    "version": 3
   },
   "file_extension": ".py",
   "mimetype": "text/x-python",
   "name": "python",
   "nbconvert_exporter": "python",
   "pygments_lexer": "ipython3",
   "version": "3.10.4"
  }
 },
 "nbformat": 4,
 "nbformat_minor": 5
}
